{
  "nbformat": 4,
  "nbformat_minor": 0,
  "metadata": {
    "colab": {
      "name": "Mohini's notebook-CNN on char data",
      "provenance": [],
      "collapsed_sections": []
    },
    "kernelspec": {
      "name": "python3",
      "display_name": "Python 3"
    },
    "accelerator": "TPU"
  },
  "cells": [
    {
      "cell_type": "code",
      "metadata": {
        "colab_type": "code",
        "outputId": "3638580f-af0d-4522-fd17-2b2a779c7adf",
        "id": "40t68t5fJ596",
        "colab": {
          "base_uri": "https://localhost:8080/",
          "height": 34
        }
      },
      "source": [
        "# from google.colab import drive\n",
        "drive.mount('/content/drive')"
      ],
      "execution_count": 0,
      "outputs": [
        {
          "output_type": "stream",
          "text": [
            "Drive already mounted at /content/drive; to attempt to forcibly remount, call drive.mount(\"/content/drive\", force_remount=True).\n"
          ],
          "name": "stdout"
        }
      ]
    },
    {
      "cell_type": "code",
      "metadata": {
        "id": "ruoD_sQnf5aU",
        "colab_type": "code",
        "colab": {}
      },
      "source": [
        "import numpy as np\n",
        "import cv2\n",
        "from matplotlib import pyplot as plt\n",
        "from google.colab.patches import cv2_imshow\n",
        "import pandas as pd"
      ],
      "execution_count": 0,
      "outputs": []
    },
    {
      "cell_type": "code",
      "metadata": {
        "id": "KzOd2WnhQdo_",
        "colab_type": "code",
        "colab": {}
      },
      "source": [
        "from __future__ import division\n",
        "from __future__ import print_function\n",
        "\n",
        "import random\n",
        "import numpy as np\n",
        "import cv2\n",
        "import imutils\n",
        "from google.colab.patches import cv2_imshow\n",
        "\n",
        "def preprocess(img, imgSize, dataAugmentation=False):\n",
        "\t\"put img into target img of size imgSize, transpose for TF and normalize gray-values\"\n",
        "\n",
        "\t# there are damaged files in IAM dataset - just use black image instead\n",
        "\tif img is None:\n",
        "\t\timg = np.zeros([imgSize[1], imgSize[0]])\n",
        "\t\tprint('test')\n",
        "\timg = cv2.resize(img, imgSize)\n",
        "\timg = cv2.cvtColor(img,cv2.COLOR_BGR2GRAY)\n",
        "\timgBlurred = cv2.GaussianBlur(img, (5,5), 0)                        # blur\n",
        "\n",
        "  #                                                       # filter image from grayscale to black and white\n",
        "\timgThresh = cv2.adaptiveThreshold(img,                           # input image\n",
        "                                      255,                                  # make pixels that pass the threshold full white\n",
        "                                      cv2.ADAPTIVE_THRESH_GAUSSIAN_C,       # use gaussian rather than mean, seems to give better results\n",
        "                                      cv2.THRESH_BINARY_INV,                # invert so foreground will be white, background will be black\n",
        "                                      11,                                   # size of a pixel neighborhood used to calculate threshold value\n",
        "                                      2)                                    # constant subtracted from the mean or weighted mean\n",
        "\n",
        "  #   # cv2.imshow(\"imgThresh\", imgThresh)\n",
        "\t# cv2_imshow(img)\n",
        "\t# return img\n",
        "\treturn imgThresh\n",
        "\t# cv2_imshow(imgThresh)"
      ],
      "execution_count": 0,
      "outputs": []
    },
    {
      "cell_type": "code",
      "metadata": {
        "id": "u1ku83uuVJzm",
        "colab_type": "code",
        "outputId": "ad958ed0-ac78-4343-86a4-280c7583d55a",
        "colab": {
          "base_uri": "https://localhost:8080/",
          "height": 47
        }
      },
      "source": [
        "img = cv2.imread('/content/drive/My Drive/APM Project/Data/Characters only/Img/Sample029/img029-003.png', cv2.IMREAD_UNCHANGED) #change the path here\n",
        "imgSize = (40, 30)\n",
        "preprocess(img, imgSize)\n",
        "# cv2_imshow(img)"
      ],
      "execution_count": 0,
      "outputs": [
        {
          "output_type": "display_data",
          "data": {
            "image/png": "[encoded data removed]",
            "text/plain": [
              "<PIL.Image.Image image mode=L size=40x30 at 0x7F868529BC88>"
            ]
          },
          "metadata": {
            "tags": []
          }
        }
      ]
    },
    {
      "cell_type": "code",
      "metadata": {
        "id": "9diMFmTfQyWW",
        "colab_type": "code",
        "outputId": "595b0be0-a258-4f40-fab0-5872f5f4243a",
        "colab": {
          "base_uri": "https://localhost:8080/",
          "height": 481
        }
      },
      "source": [
        "from __future__ import division, print_function, absolute_import\n",
        "\n",
        "# Import MNIST data\n",
        "from tensorflow.examples.tutorials.mnist import input_data\n",
        "mnist = input_data.read_data_sets(\"/tmp/data/\", one_hot=False)\n",
        "\n",
        "import tensorflow as tf\n",
        "import matplotlib.pyplot as plt\n",
        "import numpy as np"
      ],
      "execution_count": 0,
      "outputs": [
        {
          "output_type": "stream",
          "text": [
            "WARNING:tensorflow:From <ipython-input-14-8f4b81ac1ea3>:5: read_data_sets (from tensorflow.contrib.learn.python.learn.datasets.mnist) is deprecated and will be removed in a future version.\n",
            "Instructions for updating:\n",
            "Please use alternatives such as official/mnist/dataset.py from tensorflow/models.\n",
            "WARNING:tensorflow:From /usr/local/lib/python3.6/dist-packages/tensorflow_core/contrib/learn/python/learn/datasets/mnist.py:260: maybe_download (from tensorflow.contrib.learn.python.learn.datasets.base) is deprecated and will be removed in a future version.\n",
            "Instructions for updating:\n",
            "Please write your own downloading logic.\n",
            "WARNING:tensorflow:From /usr/local/lib/python3.6/dist-packages/tensorflow_core/contrib/learn/python/learn/datasets/base.py:252: _internal_retry.<locals>.wrap.<locals>.wrapped_fn (from tensorflow.contrib.learn.python.learn.datasets.base) is deprecated and will be removed in a future version.\n",
            "Instructions for updating:\n",
            "Please use urllib or similar directly.\n",
            "Successfully downloaded train-images-idx3-ubyte.gz 9912422 bytes.\n",
            "WARNING:tensorflow:From /usr/local/lib/python3.6/dist-packages/tensorflow_core/contrib/learn/python/learn/datasets/mnist.py:262: extract_images (from tensorflow.contrib.learn.python.learn.datasets.mnist) is deprecated and will be removed in a future version.\n",
            "Instructions for updating:\n",
            "Please use tf.data to implement this functionality.\n",
            "Extracting /tmp/data/train-images-idx3-ubyte.gz\n",
            "Successfully downloaded train-labels-idx1-ubyte.gz 28881 bytes.\n",
            "WARNING:tensorflow:From /usr/local/lib/python3.6/dist-packages/tensorflow_core/contrib/learn/python/learn/datasets/mnist.py:267: extract_labels (from tensorflow.contrib.learn.python.learn.datasets.mnist) is deprecated and will be removed in a future version.\n",
            "Instructions for updating:\n",
            "Please use tf.data to implement this functionality.\n",
            "Extracting /tmp/data/train-labels-idx1-ubyte.gz\n",
            "Successfully downloaded t10k-images-idx3-ubyte.gz 1648877 bytes.\n",
            "Extracting /tmp/data/t10k-images-idx3-ubyte.gz\n",
            "Successfully downloaded t10k-labels-idx1-ubyte.gz 4542 bytes.\n",
            "Extracting /tmp/data/t10k-labels-idx1-ubyte.gz\n",
            "WARNING:tensorflow:From /usr/local/lib/python3.6/dist-packages/tensorflow_core/contrib/learn/python/learn/datasets/mnist.py:290: DataSet.__init__ (from tensorflow.contrib.learn.python.learn.datasets.mnist) is deprecated and will be removed in a future version.\n",
            "Instructions for updating:\n",
            "Please use alternatives such as official/mnist/dataset.py from tensorflow/models.\n"
          ],
          "name": "stdout"
        }
      ]
    },
    {
      "cell_type": "code",
      "metadata": {
        "id": "9S637DAZQ2Z3",
        "colab_type": "code",
        "colab": {}
      },
      "source": [
        "# Training Parameters\n",
        "learning_rate = 0.001\n",
        "num_steps = 2000\n",
        "batch_size = 128\n",
        "\n",
        "# Network Parameters\n",
        "num_input = 1200 # MNIST data input (img shape: 28*28)\n",
        "num_classes = 62 # MNIST total classes (0-9 digits)\n",
        "dropout = 0.25 # Dropout, probability to drop a unit"
      ],
      "execution_count": 0,
      "outputs": []
    },
    {
      "cell_type": "code",
      "metadata": {
        "id": "MV7ZE0CwRT15",
        "colab_type": "code",
        "colab": {}
      },
      "source": [
        "image_labels = pd.read_csv('/content/drive/My Drive/APM Project/Data/Characters only/Label file.csv',header = None)\n",
        "image_labels.columns = ['Image Path','Label','Mapping']\n",
        "x=[]\n",
        "imgSize = (40, 30)\n",
        "for i in range(len(image_labels)):\n",
        "  img = preprocess(np.uint8(cv2.imread('/content/drive/My Drive/APM Project/Data/Characters only/'+image_labels['Image Path'][i])), imgSize)\n",
        "  x.append(img)"
      ],
      "execution_count": 0,
      "outputs": []
    },
    {
      "cell_type": "code",
      "metadata": {
        "id": "0En6rKCZWlL8",
        "colab_type": "code",
        "colab": {}
      },
      "source": [
        "y=[]\n",
        "y=image_labels['Mapping'].to_list()"
      ],
      "execution_count": 0,
      "outputs": []
    },
    {
      "cell_type": "code",
      "metadata": {
        "id": "So-fvMoeV3G2",
        "colab_type": "code",
        "colab": {}
      },
      "source": [
        "df = pd.DataFrame({'x': x, 'y': y})\n",
        "m = pd.DataFrame(np.random.randn(3410, 2))\n",
        "msk = np.random.rand(len(m)) < 0.8\n",
        "train_df = df[msk]\n",
        "test_df = df[~msk]"
      ],
      "execution_count": 0,
      "outputs": []
    },
    {
      "cell_type": "code",
      "metadata": {
        "id": "UXiUutHXW4Mn",
        "colab_type": "code",
        "colab": {}
      },
      "source": [
        "x_train = train_df['x'].to_list()\n",
        "y_train = train_df['y'].to_list()\n",
        "x_train1 = np.asarray(x_train)\n",
        "x_train2 = x_train1.reshape(-1,1200).astype(np.float32)\n",
        "y_train1 = np.asarray(y_train)\n",
        "y_train2 = y_train1.astype(np.uint8)"
      ],
      "execution_count": 0,
      "outputs": []
    },
    {
      "cell_type": "code",
      "metadata": {
        "id": "4DpIUoL9YHfr",
        "colab_type": "code",
        "colab": {}
      },
      "source": [
        "x_test = test_df['x'].to_list()\n",
        "y_test = test_df['y'].to_list()\n",
        "x_test1 = np.asarray(x_test)\n",
        "x_test2 = x_test1.reshape(-1,1200).astype(np.float32)\n",
        "y_test1 = np.asarray(y_test)\n",
        "y_test2 = y_test1.astype(np.uint8)"
      ],
      "execution_count": 0,
      "outputs": []
    },
    {
      "cell_type": "code",
      "metadata": {
        "id": "s3PEFCCDQ2Qo",
        "colab_type": "code",
        "colab": {}
      },
      "source": [
        "# Create the neural network\n",
        "def conv_net(x_dict, n_classes, dropout, reuse, is_training):\n",
        "    \n",
        "    # Define a scope for reusing the variables\n",
        "    with tf.variable_scope('ConvNet', reuse=reuse):\n",
        "        # TF Estimator input is a dict, in case of multiple inputs\n",
        "        x = x_dict['images']\n",
        "\n",
        "        # MNIST data input is a 1-D vector of 784 features (28*28 pixels)\n",
        "        # Reshape to match picture format [Height x Width x Channel]\n",
        "        # Tensor input become 4-D: [Batch Size, Height, Width, Channel]\n",
        "        x = tf.reshape(x, shape=[-1, 30, 40, 1])\n",
        "\n",
        "        # Convolution Layer with 32 filters and a kernel size of 5\n",
        "        conv1 = tf.layers.conv2d(x, 32, 10, activation=tf.nn.relu)\n",
        "        # Max Pooling (down-sampling) with strides of 2 and kernel size of 2\n",
        "        conv1 = tf.layers.max_pooling2d(conv1, 2, 2)\n",
        "\n",
        "        # Convolution Layer with 64 filters and a kernel size of 3\n",
        "        conv2 = tf.layers.conv2d(conv1, 64, 6, activation=tf.nn.relu)\n",
        "        # Max Pooling (down-sampling) with strides of 2 and kernel size of 2\n",
        "        conv2 = tf.layers.max_pooling2d(conv2, 2, 2)\n",
        "\n",
        "        # Flatten the data to a 1-D vector for the fully connected layer\n",
        "        fc1 = tf.contrib.layers.flatten(conv2)\n",
        "\n",
        "        # Fully connected layer (in tf contrib folder for now)\n",
        "        fc1 = tf.layers.dense(fc1, 1024)\n",
        "        # Apply Dropout (if is_training is False, dropout is not applied)\n",
        "        fc1 = tf.layers.dropout(fc1, rate=dropout, training=is_training)\n",
        "\n",
        "        # Output layer, class prediction\n",
        "        out = tf.layers.dense(fc1, n_classes)\n",
        "\n",
        "    return out"
      ],
      "execution_count": 0,
      "outputs": []
    },
    {
      "cell_type": "code",
      "metadata": {
        "id": "ALHmaxFsQ2Fv",
        "colab_type": "code",
        "colab": {}
      },
      "source": [
        "# Define the model function (following TF Estimator Template)\n",
        "def model_fn(features, labels, mode):\n",
        "    \n",
        "    # Build the neural network\n",
        "    # Because Dropout have different behavior at training and prediction time, we\n",
        "    # need to create 2 distinct computation graphs that still share the same weights.\n",
        "    logits_train = conv_net(features, num_classes, dropout, reuse=False, is_training=True)\n",
        "    logits_test = conv_net(features, num_classes, dropout, reuse=True, is_training=False)\n",
        "    \n",
        "    # Predictions\n",
        "    pred_classes = tf.argmax(logits_test, axis=1)\n",
        "    pred_probas = tf.nn.softmax(logits_test)\n",
        "    \n",
        "    # If prediction mode, early return\n",
        "    if mode == tf.estimator.ModeKeys.PREDICT:\n",
        "        return tf.estimator.EstimatorSpec(mode, predictions=pred_classes) \n",
        "        \n",
        "    # Define loss and optimizer\n",
        "    loss_op = tf.reduce_mean(tf.nn.sparse_softmax_cross_entropy_with_logits(\n",
        "        logits=logits_train, labels=tf.cast(labels, dtype=tf.int32)))\n",
        "    optimizer = tf.train.AdamOptimizer(learning_rate=learning_rate)\n",
        "    train_op = optimizer.minimize(loss_op, global_step=tf.train.get_global_step())\n",
        "    \n",
        "    # Evaluate the accuracy of the model\n",
        "    acc_op = tf.metrics.accuracy(labels=labels, predictions=pred_classes)\n",
        "    \n",
        "    # TF Estimators requires to return a EstimatorSpec, that specify\n",
        "    # the different ops for training, evaluating, ...\n",
        "    estim_specs = tf.estimator.EstimatorSpec(\n",
        "      mode=mode,\n",
        "      predictions=pred_classes,\n",
        "      loss=loss_op,\n",
        "      train_op=train_op,\n",
        "      eval_metric_ops={'accuracy': acc_op})\n",
        "\n",
        "    return estim_specs"
      ],
      "execution_count": 0,
      "outputs": []
    },
    {
      "cell_type": "code",
      "metadata": {
        "id": "hiTZffVFQ11t",
        "colab_type": "code",
        "outputId": "13edc8f3-a1ad-4c8d-f4e2-a71171b68b80",
        "colab": {
          "base_uri": "https://localhost:8080/",
          "height": 191
        }
      },
      "source": [
        "# Build the Estimator\n",
        "model = tf.estimator.Estimator(model_fn)"
      ],
      "execution_count": 0,
      "outputs": [
        {
          "output_type": "stream",
          "text": [
            "INFO:tensorflow:Using default config.\n",
            "WARNING:tensorflow:Using temporary folder as model directory: /tmp/tmpy0ols6ss\n",
            "INFO:tensorflow:Using config: {'_model_dir': '/tmp/tmpy0ols6ss', '_tf_random_seed': None, '_save_summary_steps': 100, '_save_checkpoints_steps': None, '_save_checkpoints_secs': 600, '_session_config': allow_soft_placement: true\n",
            "graph_options {\n",
            "  rewrite_options {\n",
            "    meta_optimizer_iterations: ONE\n",
            "  }\n",
            "}\n",
            ", '_keep_checkpoint_max': 5, '_keep_checkpoint_every_n_hours': 10000, '_log_step_count_steps': 100, '_train_distribute': None, '_device_fn': None, '_protocol': None, '_eval_distribute': None, '_experimental_distribute': None, '_experimental_max_worker_delay_secs': None, '_session_creation_timeout_secs': 7200, '_service': None, '_cluster_spec': <tensorflow.python.training.server_lib.ClusterSpec object at 0x7f868315f908>, '_task_type': 'worker', '_task_id': 0, '_global_id_in_cluster': 0, '_master': '', '_evaluation_master': '', '_is_chief': True, '_num_ps_replicas': 0, '_num_worker_replicas': 1}\n"
          ],
          "name": "stdout"
        }
      ]
    },
    {
      "cell_type": "code",
      "metadata": {
        "id": "QXCzA7GNRHBB",
        "colab_type": "code",
        "outputId": "91228af0-33c2-40f4-84c1-72717923455d",
        "colab": {
          "base_uri": "https://localhost:8080/",
          "height": 1000
        }
      },
      "source": [
        "# Define the input function for training\n",
        "input_fn = tf.estimator.inputs.numpy_input_fn(\n",
        "    x={'images': x_train2}, y=y_train2,\n",
        "    batch_size=batch_size, num_epochs=None, shuffle=True)\n",
        "# Train the Model\n",
        "model.train(input_fn, steps=num_steps)"
      ],
      "execution_count": 0,
      "outputs": [
        {
          "output_type": "stream",
          "text": [
            "WARNING:tensorflow:From /usr/local/lib/python3.6/dist-packages/tensorflow_core/python/training/training_util.py:236: Variable.initialized_value (from tensorflow.python.ops.variables) is deprecated and will be removed in a future version.\n",
            "Instructions for updating:\n",
            "Use Variable.read_value. Variables in 2.X are initialized automatically both in eager and graph (inside tf.defun) contexts.\n",
            "WARNING:tensorflow:From /usr/local/lib/python3.6/dist-packages/tensorflow_estimator/python/estimator/inputs/queues/feeding_queue_runner.py:62: QueueRunner.__init__ (from tensorflow.python.training.queue_runner_impl) is deprecated and will be removed in a future version.\n",
            "Instructions for updating:\n",
            "To construct input pipelines, use the `tf.data` module.\n",
            "WARNING:tensorflow:From /usr/local/lib/python3.6/dist-packages/tensorflow_estimator/python/estimator/inputs/queues/feeding_functions.py:500: add_queue_runner (from tensorflow.python.training.queue_runner_impl) is deprecated and will be removed in a future version.\n",
            "Instructions for updating:\n",
            "To construct input pipelines, use the `tf.data` module.\n",
            "INFO:tensorflow:Calling model_fn.\n",
            "WARNING:tensorflow:From <ipython-input-63-120c90c5f4d6>:14: conv2d (from tensorflow.python.layers.convolutional) is deprecated and will be removed in a future version.\n",
            "Instructions for updating:\n",
            "Use `tf.keras.layers.Conv2D` instead.\n",
            "WARNING:tensorflow:From /usr/local/lib/python3.6/dist-packages/tensorflow_core/python/layers/convolutional.py:424: Layer.apply (from tensorflow.python.keras.engine.base_layer) is deprecated and will be removed in a future version.\n",
            "Instructions for updating:\n",
            "Please use `layer.__call__` method instead.\n",
            "WARNING:tensorflow:From <ipython-input-63-120c90c5f4d6>:16: max_pooling2d (from tensorflow.python.layers.pooling) is deprecated and will be removed in a future version.\n",
            "Instructions for updating:\n",
            "Use keras.layers.MaxPooling2D instead.\n",
            "WARNING:tensorflow:\n",
            "The TensorFlow contrib module will not be included in TensorFlow 2.0.\n",
            "For more information, please see:\n",
            "  * https://github.com/tensorflow/community/blob/master/rfcs/20180907-contrib-sunset.md\n",
            "  * https://github.com/tensorflow/addons\n",
            "  * https://github.com/tensorflow/io (for I/O related ops)\n",
            "If you depend on functionality not listed there, please file an issue.\n",
            "\n",
            "WARNING:tensorflow:From /usr/local/lib/python3.6/dist-packages/tensorflow_core/contrib/layers/python/layers/layers.py:1634: flatten (from tensorflow.python.layers.core) is deprecated and will be removed in a future version.\n",
            "Instructions for updating:\n",
            "Use keras.layers.flatten instead.\n",
            "WARNING:tensorflow:From <ipython-input-63-120c90c5f4d6>:27: dense (from tensorflow.python.layers.core) is deprecated and will be removed in a future version.\n",
            "Instructions for updating:\n",
            "Use keras.layers.Dense instead.\n",
            "WARNING:tensorflow:From <ipython-input-63-120c90c5f4d6>:29: dropout (from tensorflow.python.layers.core) is deprecated and will be removed in a future version.\n",
            "Instructions for updating:\n",
            "Use keras.layers.dropout instead.\n",
            "INFO:tensorflow:Done calling model_fn.\n",
            "INFO:tensorflow:Create CheckpointSaverHook.\n",
            "WARNING:tensorflow:From /usr/local/lib/python3.6/dist-packages/tensorflow_core/python/ops/array_ops.py:1475: where (from tensorflow.python.ops.array_ops) is deprecated and will be removed in a future version.\n",
            "Instructions for updating:\n",
            "Use tf.where in 2.0, which has the same broadcast rule as np.where\n",
            "INFO:tensorflow:Graph was finalized.\n",
            "INFO:tensorflow:Running local_init_op.\n",
            "INFO:tensorflow:Done running local_init_op.\n",
            "WARNING:tensorflow:From /usr/local/lib/python3.6/dist-packages/tensorflow_core/python/training/monitored_session.py:882: start_queue_runners (from tensorflow.python.training.queue_runner_impl) is deprecated and will be removed in a future version.\n",
            "Instructions for updating:\n",
            "To construct input pipelines, use the `tf.data` module.\n",
            "INFO:tensorflow:Saving checkpoints for 0 into /tmp/tmpy0ols6ss/model.ckpt.\n",
            "INFO:tensorflow:loss = 65.94501, step = 1\n",
            "INFO:tensorflow:global_step/sec: 4.75331\n",
            "INFO:tensorflow:loss = 3.6858358, step = 101 (21.040 sec)\n",
            "INFO:tensorflow:global_step/sec: 4.70812\n",
            "INFO:tensorflow:loss = 2.8050215, step = 201 (21.243 sec)\n",
            "INFO:tensorflow:global_step/sec: 4.78758\n",
            "INFO:tensorflow:loss = 2.0366092, step = 301 (20.888 sec)\n",
            "INFO:tensorflow:global_step/sec: 4.77898\n",
            "INFO:tensorflow:loss = 0.83041054, step = 401 (20.925 sec)\n",
            "INFO:tensorflow:global_step/sec: 4.77893\n",
            "INFO:tensorflow:loss = 0.43776166, step = 501 (20.926 sec)\n",
            "INFO:tensorflow:global_step/sec: 4.76134\n",
            "INFO:tensorflow:loss = 0.1816361, step = 601 (20.999 sec)\n",
            "INFO:tensorflow:global_step/sec: 4.7552\n",
            "INFO:tensorflow:loss = 0.102439284, step = 701 (21.031 sec)\n",
            "INFO:tensorflow:global_step/sec: 4.6907\n",
            "INFO:tensorflow:loss = 0.028379861, step = 801 (21.319 sec)\n",
            "INFO:tensorflow:global_step/sec: 4.6829\n",
            "INFO:tensorflow:loss = 0.03281647, step = 901 (21.353 sec)\n",
            "INFO:tensorflow:global_step/sec: 4.73932\n",
            "INFO:tensorflow:loss = 0.048819855, step = 1001 (21.101 sec)\n",
            "INFO:tensorflow:global_step/sec: 4.71144\n",
            "INFO:tensorflow:loss = 0.19452584, step = 1101 (21.222 sec)\n",
            "INFO:tensorflow:global_step/sec: 4.662\n",
            "INFO:tensorflow:loss = 0.1582724, step = 1201 (21.451 sec)\n",
            "INFO:tensorflow:global_step/sec: 4.66654\n",
            "INFO:tensorflow:loss = 0.015787955, step = 1301 (21.429 sec)\n",
            "INFO:tensorflow:global_step/sec: 4.61571\n",
            "INFO:tensorflow:loss = 0.013361637, step = 1401 (21.665 sec)\n",
            "INFO:tensorflow:global_step/sec: 4.71289\n",
            "INFO:tensorflow:loss = 0.13376074, step = 1501 (21.222 sec)\n",
            "INFO:tensorflow:global_step/sec: 4.54971\n",
            "INFO:tensorflow:loss = 0.31128407, step = 1601 (21.976 sec)\n",
            "INFO:tensorflow:global_step/sec: 4.56709\n",
            "INFO:tensorflow:loss = 0.38412446, step = 1701 (21.897 sec)\n",
            "INFO:tensorflow:global_step/sec: 4.55708\n",
            "INFO:tensorflow:loss = 0.2970568, step = 1801 (21.944 sec)\n",
            "INFO:tensorflow:global_step/sec: 4.46744\n",
            "INFO:tensorflow:loss = 0.26381165, step = 1901 (22.387 sec)\n",
            "INFO:tensorflow:Saving checkpoints for 2000 into /tmp/tmpy0ols6ss/model.ckpt.\n",
            "INFO:tensorflow:Loss for final step: 0.12297913.\n"
          ],
          "name": "stdout"
        },
        {
          "output_type": "execute_result",
          "data": {
            "text/plain": [
              "<tensorflow_estimator.python.estimator.estimator.Estimator at 0x7f868315f828>"
            ]
          },
          "metadata": {
            "tags": []
          },
          "execution_count": 66
        }
      ]
    },
    {
      "cell_type": "code",
      "metadata": {
        "id": "ZMBdxe6uRJ3-",
        "colab_type": "code",
        "outputId": "94751c0d-ef67-45e4-ef33-f270e8274322",
        "colab": {
          "base_uri": "https://localhost:8080/",
          "height": 205
        }
      },
      "source": [
        "# Evaluate the Model\n",
        "# Define the input function for evaluating\n",
        "input_fn = tf.estimator.inputs.numpy_input_fn(\n",
        "    x={'images': x_test2}, y=y_test2,\n",
        "    batch_size=batch_size, shuffle=False)\n",
        "# Use the Estimator 'evaluate' method\n",
        "model.evaluate(input_fn)"
      ],
      "execution_count": 0,
      "outputs": [
        {
          "output_type": "stream",
          "text": [
            "INFO:tensorflow:Calling model_fn.\n",
            "INFO:tensorflow:Done calling model_fn.\n",
            "INFO:tensorflow:Starting evaluation at 2019-12-05T00:14:15Z\n",
            "INFO:tensorflow:Graph was finalized.\n",
            "INFO:tensorflow:Restoring parameters from /tmp/tmpy0ols6ss/model.ckpt-2000\n",
            "INFO:tensorflow:Running local_init_op.\n",
            "INFO:tensorflow:Done running local_init_op.\n",
            "INFO:tensorflow:Finished evaluation at 2019-12-05-00:14:15\n",
            "INFO:tensorflow:Saving dict for global step 2000: accuracy = 0.57202214, global_step = 2000, loss = 7.7469087\n",
            "INFO:tensorflow:Saving 'checkpoint_path' summary for global step 2000: /tmp/tmpy0ols6ss/model.ckpt-2000\n"
          ],
          "name": "stdout"
        },
        {
          "output_type": "execute_result",
          "data": {
            "text/plain": [
              "{'accuracy': 0.57202214, 'global_step': 2000, 'loss': 7.7469087}"
            ]
          },
          "metadata": {
            "tags": []
          },
          "execution_count": 67
        }
      ]
    },
    {
      "cell_type": "code",
      "metadata": {
        "id": "mSPs93kgRLWz",
        "colab_type": "code",
        "outputId": "07527558-bed6-4008-c3bf-1d5bbb0c00fc",
        "colab": {
          "base_uri": "https://localhost:8080/",
          "height": 1000
        }
      },
      "source": [
        "# Predict single images\n",
        "n_images = 10\n",
        "# Get images from test set\n",
        "test_images = x_test2[101:111]\n",
        "# Prepare the input data\n",
        "input_fn = tf.estimator.inputs.numpy_input_fn(\n",
        "    x={'images': test_images}, shuffle=False)\n",
        "# Use the model to predict the images class\n",
        "preds = list(model.predict(input_fn))\n",
        "\n",
        "# Display\n",
        "for i in range(n_images):\n",
        "    plt.imshow(np.reshape(test_images[i], [30, 40]), cmap='gray')\n",
        "    plt.show()\n",
        "    print(\"Model prediction:\", preds[i])"
      ],
      "execution_count": 0,
      "outputs": [
        {
          "output_type": "stream",
          "text": [
            "INFO:tensorflow:Calling model_fn.\n",
            "INFO:tensorflow:Done calling model_fn.\n",
            "INFO:tensorflow:Graph was finalized.\n",
            "INFO:tensorflow:Restoring parameters from /tmp/tmpy0ols6ss/model.ckpt-2000\n",
            "INFO:tensorflow:Running local_init_op.\n",
            "INFO:tensorflow:Done running local_init_op.\n"
          ],
          "name": "stdout"
        },
        {
          "output_type": "display_data",
          "data": {
            "image/png": "[encoded data removed]",
            "text/plain": [
              "<Figure size 432x288 with 1 Axes>"
            ]
          },
          "metadata": {
            "tags": []
          }
        },
        {
          "output_type": "stream",
          "text": [
            "Model prediction: 42\n"
          ],
          "name": "stdout"
        },
        {
          "output_type": "display_data",
          "data": {
            "image/png": "[encoded data removed]",
            "text/plain": [
              "<Figure size 432x288 with 1 Axes>"
            ]
          },
          "metadata": {
            "tags": []
          }
        },
        {
          "output_type": "stream",
          "text": [
            "Model prediction: 17\n"
          ],
          "name": "stdout"
        },
        {
          "output_type": "display_data",
          "data": {
            "image/png": "[encoded data removed]",
            "text/plain": [
              "<Figure size 432x288 with 1 Axes>"
            ]
          },
          "metadata": {
            "tags": []
          }
        },
        {
          "output_type": "stream",
          "text": [
            "Model prediction: 9\n"
          ],
          "name": "stdout"
        },
        {
          "output_type": "display_data",
          "data": {
            "image/png": "[encoded data removed]",
            "text/plain": [
              "<Figure size 432x288 with 1 Axes>"
            ]
          },
          "metadata": {
            "tags": []
          }
        },
        {
          "output_type": "stream",
          "text": [
            "Model prediction: 9\n"
          ],
          "name": "stdout"
        },
        {
          "output_type": "display_data",
          "data": {
            "image/png": "[encoded data removed]",
            "text/plain": [
              "<Figure size 432x288 with 1 Axes>"
            ]
          },
          "metadata": {
            "tags": []
          }
        },
        {
          "output_type": "stream",
          "text": [
            "Model prediction: 42\n"
          ],
          "name": "stdout"
        },
        {
          "output_type": "display_data",
          "data": {
            "image/png": "[encoded data removed]",
            "text/plain": [
              "<Figure size 432x288 with 1 Axes>"
            ]
          },
          "metadata": {
            "tags": []
          }
        },
        {
          "output_type": "stream",
          "text": [
            "Model prediction: 27\n"
          ],
          "name": "stdout"
        },
        {
          "output_type": "display_data",
          "data": {
            "image/png": "[encoded data removed]",
            "text/plain": [
              "<Figure size 432x288 with 1 Axes>"
            ]
          },
          "metadata": {
            "tags": []
          }
        },
        {
          "output_type": "stream",
          "text": [
            "Model prediction: 4\n"
          ],
          "name": "stdout"
        },
        {
          "output_type": "display_data",
          "data": {
            "image/png": "[encoded data removed]",
            "text/plain": [
              "<Figure size 432x288 with 1 Axes>"
            ]
          },
          "metadata": {
            "tags": []
          }
        },
        {
          "output_type": "stream",
          "text": [
            "Model prediction: 10\n"
          ],
          "name": "stdout"
        },
        {
          "output_type": "display_data",
          "data": {
            "image/png": "[encoded data removed]",
            "text/plain": [
              "<Figure size 432x288 with 1 Axes>"
            ]
          },
          "metadata": {
            "tags": []
          }
        },
        {
          "output_type": "stream",
          "text": [
            "Model prediction: 10\n"
          ],
          "name": "stdout"
        },
        {
          "output_type": "display_data",
          "data": {
            "image/png": "[encoded data removed]",
            "text/plain": [
              "<Figure size 432x288 with 1 Axes>"
            ]
          },
          "metadata": {
            "tags": []
          }
        },
        {
          "output_type": "stream",
          "text": [
            "Model prediction: 10\n"
          ],
          "name": "stdout"
        }
      ]
    },
    {
      "cell_type": "code",
      "metadata": {
        "id": "QPhBjhJLYjs7",
        "colab_type": "code",
        "colab": {}
      },
      "source": [
        ""
      ],
      "execution_count": 0,
      "outputs": []
    }
  ]
}
